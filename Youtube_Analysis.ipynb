{
 "cells": [
  {
   "cell_type": "code",
   "execution_count": 1,
   "id": "671fbc62-4838-42be-aa8a-960623dd7482",
   "metadata": {
    "tags": []
   },
   "outputs": [],
   "source": [
    "#Load important and necessary libraries \n",
    "\n",
    "from googleapiclient.discovery import build\n",
    "import pandas as pd\n",
    "from IPython.display import JSON\n",
    "import calendar\n",
    "%matplotlib inline"
   ]
  },
  {
   "cell_type": "code",
   "execution_count": 15,
   "id": "52bf0ef9-45b1-4326-91e4-b9c58c37eb84",
   "metadata": {},
   "outputs": [],
   "source": [
    "channel_ids = ['UC7cs8q-gJRlGwj4A8OmCmXg']   \n",
    "#['UCvZnwzmc3m1Eush-Or8Z6DA','UC7cs8q-gJRlGwj4A8OmCmXg','UC0p5jTq6Xx_DosDFxVXnWaQ','UCZ4AMrDcNrfy3X6nsU8-rPg']   \n",
    "#List of channel id's we want to grab and analyze  Alex_the_Analyst, Shashank, The_Economist, Econ_Expalined"
   ]
  },
  {
   "cell_type": "code",
   "execution_count": 16,
   "id": "e8cb42ec-cbcf-4e62-9a81-0943be9b8f56",
   "metadata": {},
   "outputs": [],
   "source": [
    "#Setup Youtube API call and specifications\n",
    "api_service_name = \"youtube\"\n",
    "api_version = \"v3\"\n",
    "\n",
    "# Get credentials and create an API initialization\n",
    "youtube = build(api_service_name, api_version, developerKey=api_key)"
   ]
  },
  {
   "cell_type": "code",
   "execution_count": 17,
   "id": "fe9a62ff-1f20-4319-800a-4ceabfb10a29",
   "metadata": {
    "tags": []
   },
   "outputs": [],
   "source": [
    "def pull_info(youtube, channel_ids): #function that takes in youtube API call and list of channels you want to pull data for and returns a dataframe\n",
    "    \n",
    "    data = [] \n",
    "    \n",
    "    request = youtube.channels().list(\n",
    "        part=\"snippet,contentDetails,statistics\",\n",
    "        id=','.join(channel_ids)\n",
    "    )\n",
    "    response = request.execute()\n",
    "    \n",
    "    #create loop to grab channel statistics\n",
    "    for item in response['items']:\n",
    "        stats = {'channel_name': item['snippet']['title'],\n",
    "                 'subscribers': item['statistics']['subscriberCount'],\n",
    "                 'views': item['statistics']['viewCount'],\n",
    "                 'total_videos': item['statistics']['videoCount'],\n",
    "                 'playlist_id': item['contentDetails']['relatedPlaylists']['uploads']\n",
    "                }\n",
    "        data.append(stats)\n",
    "    return(pd.DataFrame(data))"
   ]
  },
  {
   "cell_type": "code",
   "execution_count": 18,
   "id": "320b07c5-dd84-4c70-8d9d-5c82ab37f208",
   "metadata": {
    "tags": []
   },
   "outputs": [
    {
     "data": {
      "text/html": [
       "<div>\n",
       "<style scoped>\n",
       "    .dataframe tbody tr th:only-of-type {\n",
       "        vertical-align: middle;\n",
       "    }\n",
       "\n",
       "    .dataframe tbody tr th {\n",
       "        vertical-align: top;\n",
       "    }\n",
       "\n",
       "    .dataframe thead th {\n",
       "        text-align: right;\n",
       "    }\n",
       "</style>\n",
       "<table border=\"1\" class=\"dataframe\">\n",
       "  <thead>\n",
       "    <tr style=\"text-align: right;\">\n",
       "      <th></th>\n",
       "      <th>channel_name</th>\n",
       "      <th>subscribers</th>\n",
       "      <th>views</th>\n",
       "      <th>total_videos</th>\n",
       "      <th>playlist_id</th>\n",
       "    </tr>\n",
       "  </thead>\n",
       "  <tbody>\n",
       "    <tr>\n",
       "      <th>0</th>\n",
       "      <td>Alex The Analyst</td>\n",
       "      <td>221000</td>\n",
       "      <td>8678776</td>\n",
       "      <td>144</td>\n",
       "      <td>UU7cs8q-gJRlGwj4A8OmCmXg</td>\n",
       "    </tr>\n",
       "  </tbody>\n",
       "</table>\n",
       "</div>"
      ],
      "text/plain": [
       "       channel_name subscribers    views total_videos  \\\n",
       "0  Alex The Analyst      221000  8678776          144   \n",
       "\n",
       "                playlist_id  \n",
       "0  UU7cs8q-gJRlGwj4A8OmCmXg  "
      ]
     },
     "execution_count": 18,
     "metadata": {},
     "output_type": "execute_result"
    }
   ],
   "source": [
    "pull_info(youtube, channel_ids)"
   ]
  },
  {
   "cell_type": "code",
   "execution_count": 19,
   "id": "c1e20719-81cb-4afa-891f-f4c46d0add98",
   "metadata": {
    "tags": []
   },
   "outputs": [
    {
     "data": {
      "text/plain": [
       "['UU7cs8q-gJRlGwj4A8OmCmXg']"
      ]
     },
     "execution_count": 19,
     "metadata": {},
     "output_type": "execute_result"
    }
   ],
   "source": [
    "# Take each playlist id in pull_info\n",
    "playlist_id_group = [i for i in pull_info(youtube, channel_ids)['playlist_id']]\n",
    "playlist_id_group"
   ]
  },
  {
   "cell_type": "code",
   "execution_count": 20,
   "id": "90ee100a-65e0-4bd9-952e-3ac13079a0bb",
   "metadata": {
    "tags": []
   },
   "outputs": [],
   "source": [
    "playlist_id = ['UUvZnwzmc3m1Eush-Or8Z6DA'] #'UUvZnwzmc3m1Eush-Or8Z6DA','UU7cs8q-gJRlGwj4A8OmCmXg'\n",
    "\n",
    "def video_ids(youtube, playlist_id): #take the playlist id and return all of the video id's that are on this playlist\n",
    "    \n",
    "    vid_ids = [] #create empty list for video id's\n",
    "    \n",
    "    request = youtube.playlistItems().list(\n",
    "            part=\"snippet,contentDetails\",\n",
    "            playlistId=','.join(playlist_id),\n",
    "            maxResults=50\n",
    "        )\n",
    "    response = request.execute() #call the api to get the most recent 50 videos on this playlist\n",
    "    \n",
    "    for item in response['items']:\n",
    "        vid_ids.append(item['contentDetails']['videoId']) #look at the content details of the video and grab the unique id for it\n",
    "    \n",
    "#     next_page = response.get('nextPageToken')\n",
    "#     while next_page:\n",
    "#         request = youtube.playlistItems().list(\n",
    "#             part='contentDetails',\n",
    "#             playlistId = playlist_id,\n",
    "#             maxResults=50,\n",
    "#             pageToken= next_page)\n",
    "#         response = request.execute()\n",
    "        \n",
    "#         for item in response['items']:\n",
    "#             vid_ids.append(item['contentDetails']['videoId'])\n",
    "        \n",
    "#         next_page = response.get('nextPageToken')\n",
    "        \n",
    "    return vid_ids"
   ]
  },
  {
   "cell_type": "code",
   "execution_count": 21,
   "id": "95f930ea-0401-41f9-9285-93f8e9b20239",
   "metadata": {
    "tags": []
   },
   "outputs": [
    {
     "data": {
      "text/plain": [
       "50"
      ]
     },
     "execution_count": 21,
     "metadata": {},
     "output_type": "execute_result"
    }
   ],
   "source": [
    "video_ids = video_ids(youtube,playlist_id) #create list of video ids that were pulled (50) is max that youtube allows\n",
    "len(video_ids)"
   ]
  },
  {
   "cell_type": "code",
   "execution_count": 22,
   "id": "d75420d1-eecc-48a3-a375-78e06b682bf3",
   "metadata": {
    "tags": []
   },
   "outputs": [],
   "source": [
    "def video_details(youtube, video_id): #take each video id and get specified metrics\n",
    "    \n",
    "    all_details = []\n",
    "    \n",
    "    for i in range(0, len(video_ids),50):\n",
    "        request = youtube.videos().list(\n",
    "                part=\"snippet,contentDetails,statistics\",\n",
    "                id=','.join(video_ids[i:i+50])\n",
    "            )\n",
    "        response = request.execute()\n",
    "\n",
    "\n",
    "        for video in response['items']:\n",
    "            stats_pulled = {'snippet':['channelTitle', 'title', 'description', 'tags', 'publishedAt'],\n",
    "                            'statistics': ['viewCount', 'likeCount', 'commentCount'],\n",
    "                            'contentDetails': ['duration']\n",
    "                           }\n",
    "            video_info = {}\n",
    "            video_info['video_id'] = video['id']\n",
    "\n",
    "            for h in stats_pulled.keys():\n",
    "                for j in stats_pulled[h]:\n",
    "                    try:\n",
    "                        video_info[j] = video[h][j]\n",
    "                    except:\n",
    "                        video_info[h] = None\n",
    "            all_details.append(video_info)\n",
    "            \n",
    "    return pd.DataFrame(all_details) #return the requested data in a dataframe for analysis"
   ]
  },
  {
   "cell_type": "code",
   "execution_count": 23,
   "id": "49bd1471-1862-4be4-8567-e8749b47e9d1",
   "metadata": {
    "tags": []
   },
   "outputs": [
    {
     "data": {
      "text/plain": [
       "(50, 10)"
      ]
     },
     "execution_count": 23,
     "metadata": {},
     "output_type": "execute_result"
    }
   ],
   "source": [
    "video_df = video_details(youtube,video_ids) #crete dataframe with all 50 vidoes and all video metrics\n",
    "video_df.shape"
   ]
  },
  {
   "cell_type": "code",
   "execution_count": null,
   "id": "28a7e959-9f2a-4387-9b7f-f7dea7fd9076",
   "metadata": {
    "tags": []
   },
   "outputs": [],
   "source": [
    "#Convert the youtube string columns into numeric using apply mehthod\n",
    "to_num_cols = ['viewCount','likeCount','commentCount']\n",
    "video_df[to_num_cols] = video_df[to_num_cols].apply(pd.to_numeric, errors='coerce', axis=1)"
   ]
  },
  {
   "cell_type": "code",
   "execution_count": null,
   "id": "3559ac55-ff95-4255-b628-01170be9908c",
   "metadata": {},
   "outputs": [],
   "source": [
    "#Get day of week video was published\n",
    "import datetime\n",
    "video_df['datePublished'] = video_df['publishedAt'].str[:10]\n",
    "video_df['dayofMonth'] = video_df['datePublished'].str[-2:]\n",
    "video_df['datePublished'] = video_df['datePublished'].apply(lambda x: datetime.datetime.strptime(x, '%Y-%m-%d'))"
   ]
  },
  {
   "cell_type": "code",
   "execution_count": null,
   "id": "e3d97bd5-10d3-4afe-ae44-5d1bd80414a3",
   "metadata": {},
   "outputs": [],
   "source": [
    "#Convert Youtube API video length to seconds\n",
    "import isodate\n",
    "video_df['durationSeconds'] = video_df['duration'].apply(lambda x: isodate.parse_duration(x)).astype('timedelta64[s]')"
   ]
  },
  {
   "cell_type": "markdown",
   "id": "c7253156-3095-44cb-8c75-abf15d32c004",
   "metadata": {},
   "source": [
    "# Create Excel file"
   ]
  },
  {
   "cell_type": "code",
   "execution_count": 24,
   "id": "737772af-054d-455a-acd8-72471f4ee619",
   "metadata": {},
   "outputs": [],
   "source": [
    "video_df.to_excel('AtA_youtube.xlsx')"
   ]
  }
 ],
 "metadata": {
  "kernelspec": {
   "display_name": "Python 3 (ipykernel)",
   "language": "python",
   "name": "python3"
  },
  "language_info": {
   "codemirror_mode": {
    "name": "ipython",
    "version": 3
   },
   "file_extension": ".py",
   "mimetype": "text/x-python",
   "name": "python",
   "nbconvert_exporter": "python",
   "pygments_lexer": "ipython3",
   "version": "3.9.10"
  }
 },
 "nbformat": 4,
 "nbformat_minor": 5
}
